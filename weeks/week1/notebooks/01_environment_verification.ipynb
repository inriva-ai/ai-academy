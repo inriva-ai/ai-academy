{
 "cells": [
  {
   "cell_type": "markdown",
   "metadata": {},
   "source": [
    "# Environment Verification - Week 1 Workshop\n",
    "\n",
    "Welcome to the INRIVA AI Academy Week 1 Workshop! This notebook will verify that your environment is set up correctly.\n",
    "\n",
    "## Instructions\n",
    "1. Run each cell by pressing **Shift + Enter**\n",
    "2. Look for ✅ (success) or ❌ (error) indicators\n",
    "3. If you see any errors, ask for help before we continue\n",
    "\n",
    "Let's begin!"
   ]
  },
  {
   "cell_type": "markdown",
   "metadata": {},
   "source": [
    "## 1. Basic Imports Test"
   ]
  },
  {
   "cell_type": "code",
   "execution_count": null,
   "metadata": {},
   "outputs": [],
   "source": [
    "# Test all required imports\n",
    "import sys\n",
    "print(f\"Python version: {sys.version}\")\n",
    "\n",
    "try:\n",
    "    import metaflow\n",
    "    import pandas as pd\n",
    "    import numpy as np\n",
    "    import matplotlib.pyplot as plt\n",
    "    import seaborn as sns\n",
    "    from sklearn.datasets import load_iris\n",
    "    \n",
    "    print(\"\\n✅ All imports successful!\")\n",
    "    print(f\"Metaflow version: {metaflow.__version__}\")\n",
    "    print(f\"Pandas version: {pd.__version__}\")\n",
    "    print(f\"NumPy version: {np.__version__}\")\n",
    "    \n",
    "except ImportError as e:\n",
    "    print(f\"❌ Import error: {e}\")\n",
    "    print(\"Please check your environment setup!\")"
   ]
  },
  {
   "cell_type": "markdown",
   "metadata": {},
   "source": [
    "## 2. Metaflow Basic Test"
   ]
  },
  {
   "cell_type": "code",
   "execution_count": null,
   "metadata": {},
   "outputs": [],
   "source": [
    "# Test Metaflow basic functionality\n",
    "from metaflow import FlowSpec, step, NBRunner\n",
    "\n",
    "class VerificationFlow(FlowSpec):\n",
    "    \"\"\"\n",
    "    Simple flow to test Metaflow setup\n",
    "    \"\"\"\n",
    "    \n",
    "    @step\n",
    "    def start(self):\n",
    "        print(\"🚀 Metaflow verification starting...\")\n",
    "        self.message = \"Hello from Metaflow!\"\n",
    "        self.next(self.end)\n",
    "    \n",
    "    @step\n",
    "    def end(self):\n",
    "        print(f\"✅ {self.message}\")\n",
    "        print(\"🎉 Metaflow verification complete!\")\n",
    "\n",
    "# Test flow creation\n",
    "try:\n",
    "    flow = NBRunner(VerificationFlow).nbrun()\n",
    "    print(\"✅ Metaflow FlowSpec created successfully!\")\n",
    "except Exception as e:\n",
    "    print(f\"❌ Metaflow error: {e}\")"
   ]
  },
  {
   "cell_type": "markdown",
   "metadata": {},
   "source": [
    "## 3. Data Science Stack Test"
   ]
  },
  {
   "cell_type": "code",
   "execution_count": null,
   "metadata": {},
   "outputs": [],
   "source": [
    "# Test pandas functionality\n",
    "print(\"Testing pandas...\")\n",
    "df = pd.DataFrame({\n",
    "    'A': [1, 2, 3, 4, 5],\n",
    "    'B': [10, 20, 30, 40, 50],\n",
    "    'C': ['x', 'y', 'x', 'z', 'y']\n",
    "})\n",
    "print(f\"✅ Created DataFrame with shape: {df.shape}\")\n",
    "print(df.head())\n",
    "\n",
    "# Test numpy functionality\n",
    "print(\"\\nTesting numpy...\")\n",
    "arr = np.random.normal(0, 1, 100)\n",
    "print(f\"✅ Created numpy array with mean: {arr.mean():.3f}, std: {arr.std():.3f}\")\n",
    "\n",
    "# Test matplotlib\n",
    "print(\"\\nTesting matplotlib...\")\n",
    "fig, ax = plt.subplots(figsize=(6, 4))\n",
    "ax.plot([1, 2, 3, 4], [1, 4, 2, 3])\n",
    "ax.set_title('Test Plot')\n",
    "plt.show()\n",
    "print(\"✅ Matplotlib plot created successfully!\")"
   ]
  },
  {
   "cell_type": "markdown",
   "metadata": {},
   "source": [
    "## 4. Machine Learning Test"
   ]
  },
  {
   "cell_type": "code",
   "execution_count": null,
   "metadata": {},
   "outputs": [],
   "source": [
    "# Test scikit-learn functionality\n",
    "from sklearn.datasets import load_iris\n",
    "from sklearn.model_selection import train_test_split\n",
    "from sklearn.ensemble import RandomForestClassifier\n",
    "from sklearn.metrics import accuracy_score\n",
    "\n",
    "print(\"Testing scikit-learn with iris dataset...\")\n",
    "\n",
    "# Load data\n",
    "iris = load_iris()\n",
    "X, y = iris.data, iris.target\n",
    "\n",
    "# Split data\n",
    "X_train, X_test, y_train, y_test = train_test_split(X, y, test_size=0.3, random_state=42)\n",
    "\n",
    "# Train model\n",
    "model = RandomForestClassifier(n_estimators=10, random_state=42)\n",
    "model.fit(X_train, y_train)\n",
    "\n",
    "# Evaluate\n",
    "predictions = model.predict(X_test)\n",
    "accuracy = accuracy_score(y_test, predictions)\n",
    "\n",
    "print(f\"✅ Model trained successfully!\")\n",
    "print(f\"   Training samples: {len(X_train)}\")\n",
    "print(f\"   Test samples: {len(X_test)}\")\n",
    "print(f\"   Accuracy: {accuracy:.3f}\")\n",
    "\n",
    "if accuracy > 0.8:\n",
    "    print(\"🎉 Great! Everything is working perfectly!\")\n",
    "else:\n",
    "    print(\"⚠️ Accuracy seems low, but setup is working\")"
   ]
  },
  {
   "cell_type": "markdown",
   "metadata": {},
   "source": [
    "## 5. Workshop Data Access Test"
   ]
  },
  {
   "cell_type": "code",
   "execution_count": null,
   "metadata": {},
   "outputs": [],
   "source": [
    "# Test access to datasets we'll use in the workshop\n",
    "from sklearn.datasets import load_wine\n",
    "\n",
    "print(\"Testing workshop datasets...\")\n",
    "\n",
    "# Wine dataset (main workshop dataset)\n",
    "wine = load_wine()\n",
    "print(f\"✅ Wine dataset loaded: {wine.data.shape[0]} samples, {wine.data.shape[1]} features\")\n",
    "print(f\"   Classes: {wine.target_names}\")\n",
    "\n",
    "# Convert to pandas for exploration\n",
    "wine_df = pd.DataFrame(wine.data, columns=wine.feature_names)\n",
    "wine_df['target'] = wine.target\n",
    "\n",
    "print(f\"✅ Converted to pandas DataFrame: {wine_df.shape}\")\n",
    "print(\"\\nFirst few rows:\")\n",
    "print(wine_df.head())\n",
    "\n",
    "# Quick visualization test\n",
    "plt.figure(figsize=(8, 4))\n",
    "\n",
    "plt.subplot(1, 2, 1)\n",
    "wine_df['target'].value_counts().plot(kind='bar')\n",
    "plt.title('Wine Classes Distribution')\n",
    "\n",
    "plt.subplot(1, 2, 2)\n",
    "wine_df['alcohol'].hist(bins=15, alpha=0.7)\n",
    "plt.title('Alcohol Content Distribution')\n",
    "\n",
    "plt.tight_layout()\n",
    "plt.show()\n",
    "\n",
    "print(\"✅ Visualization test successful!\")"
   ]
  },
  {
   "cell_type": "markdown",
   "metadata": {},
   "source": [
    "## 🎉 Verification Complete!\n",
    "\n",
    "If you see all ✅ symbols above, you're ready for the workshop!\n",
    "\n",
    "### What's Next?\n",
    "1. **Keep this environment active**\n",
    "2. **Join the Google Meet** at workshop time\n",
    "3. **Be ready to code along** with the facilitator\n",
    "4. **Ask questions freely** - we're here to help!\n",
    "\n",
    "### Need Help?\n",
    "- ❌ **If you see any errors**: Post in Google Chat #urgent-help\n",
    "- 🤔 **If something doesn't look right**: Ask during the workshop\n",
    "- 📧 **For other questions**: Email the facilitator\n",
    "\n",
    "**See you in the workshop! 🚀**"
   ]
  }
 ],
 "metadata": {
  "kernelspec": {
   "display_name": "Python 3",
   "language": "python",
   "name": "python3"
  },
  "language_info": {
   "codemirror_mode": {
    "name": "ipython",
    "version": 3
   },
   "file_extension": ".py",
   "mimetype": "text/x-python",
   "name": "python",
   "nbconvert_exporter": "python",
   "pygments_lexer": "ipython3",
   "version": "3.9.0"
  }
 },
 "nbformat": 4,
 "nbformat_minor": 4
}
