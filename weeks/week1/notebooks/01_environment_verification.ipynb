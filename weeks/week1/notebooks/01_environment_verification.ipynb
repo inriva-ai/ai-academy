{
  "cells": [
    {
      "cell_type": "markdown",
      "metadata": {},
      "source": [
        "# Week 1: Environment Verification\n\n",
        "Welcome to the INRIVA AI Academy! Let's verify your setup is ready for Week 1.\n\n",
        "## Instructions\n",
        "Run each cell and look for \u2705 success indicators.\n"
      ]
    },
    {
      "cell_type": "code",
      "execution_count": null,
      "metadata": {},
      "outputs": [],
      "source": [
        "# Basic imports test\n",
        "import sys\n",
        "print(f\"Python version: {sys.version}\")\n",
        "\n",
        "try:\n",
        "    import metaflow\n",
        "    import pandas as pd\n",
        "    import numpy as np\n",
        "    import matplotlib.pyplot as plt\n",
        "    import seaborn as sns\n",
        "    from sklearn.datasets import load_iris\n",
        "    \n",
        "    print(\"\\n\u2705 All imports successful!\")\n",
        "    print(f\"Metaflow: {metaflow.__version__}\")\n",
        "    print(f\"Pandas: {pd.__version__}\")\n",
        "    \n",
        "except ImportError as e:\n",
        "    print(f\"\u274c Import error: {e}\")"
      ]
    }
  ],
  "metadata": {
    "kernelspec": {
      "display_name": "Python 3",
      "language": "python",
      "name": "python3"
    },
    "language_info": {
      "name": "python",
      "version": "3.9.0"
    }
  },
  "nbformat": 4,
  "nbformat_minor": 4
}